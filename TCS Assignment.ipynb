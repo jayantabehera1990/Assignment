{
 "cells": [
  {
   "cell_type": "markdown",
   "id": "03d84790",
   "metadata": {},
   "source": [
    "# Problem Statement- Predict BMI based on Age, Height, Weight as input parameters\n",
    "\n",
    "The Purpose of this assigment is to address the below point:\n",
    "\n",
    "- Objective\n",
    "  - Create the training dataset based on the BMI business rules.\n",
    "  - Develop a model to predict BMI.\n",
    "  - Write steps to operationalize the model.\n",
    "\n",
    "- Business Understanding\n",
    "   - Company's VP required an application using which customers can get an instant quote based on their Age, Gender, Height, Weight that would eventually enhance the public perception of the industry.\n",
    "\n",
    "- DataSet\n",
    "  - Sample dataset(Dummy-Data.csv) has 100 row with unique AppIDs; Each row has Ins_Age, Ins_Gender, Ht, Wt, Issue_Date\n",
    "\n",
    "- DataSet Understanding\n",
    "  - Unique AppID represents different costumers having age, gender, height, weight as their input features. BMI calculation requires Height in meter-square and Weight in Kg, hence below steps were taken to do the needfil-\n",
    "  - Height(Ht) was recalculated to Feet-Inches in csv file using excel formula \"=CONCATENATE(Left(Ht,1),\".\",Right(Ht,2))\" and later converted to Meter-Squared using \"=(Ht_in_Feet*0.3048)^2\"\n",
    "  - Weight(Wt) was recalculated to Kg in csv file using excel formula \"=0.453592*Wt\"\n",
    "  - BMI Column is then calculated. \n",
    "  \n",
    "## Solution Development\n",
    "\n",
    "- Sample Logic for Quotes Calculation\n",
    "  - Similar logic needs to be encorporated in the backend logic for the solution development.\n",
    "  - Detailed Solution Deployment part is covered post model building"
   ]
  },
  {
   "cell_type": "markdown",
   "id": "c7713e39",
   "metadata": {},
   "source": [
    "# Import Required Libraries"
   ]
  },
  {
   "cell_type": "code",
   "execution_count": 88,
   "id": "6809fc08",
   "metadata": {},
   "outputs": [],
   "source": [
    "import pandas as pd\n",
    "import warnings\n",
    "#warnings.simplefilter(action='ignore', category=FutureWarning)\n",
    "warnings.filterwarnings(\"ignore\")\n",
    "\n",
    "import numpy as np\n",
    "#For Regression problem model building\n",
    "from sklearn.model_selection import train_test_split\n",
    "from sklearn.linear_model import LinearRegression\n",
    "from sklearn.linear_model import Ridge\n",
    "from sklearn.linear_model import Lasso\n",
    "from sklearn.linear_model import ElasticNet\n",
    "from sklearn.ensemble import BaggingRegressor\n",
    "from sklearn.ensemble import RandomForestRegressor\n",
    "from sklearn.ensemble import ExtraTreesRegressor\n",
    "from sklearn.tree import DecisionTreeRegressor\n",
    "from sklearn.svm import SVR\n",
    "from sklearn.neighbors import KNeighborsRegressor\n",
    "\n",
    "from sklearn.metrics import explained_variance_score\n",
    "from sklearn.metrics import mean_absolute_error\n",
    "from math import sqrt\n",
    "from sklearn.metrics import r2_scor"
   ]
  },
  {
   "cell_type": "markdown",
   "id": "607dd8c0",
   "metadata": {},
   "source": [
    "# Import dataset "
   ]
  },
  {
   "cell_type": "code",
   "execution_count": 89,
   "id": "d8210497",
   "metadata": {},
   "outputs": [],
   "source": [
    "df = pd.read_csv(\"Dummy-Data.csv\")\n",
    "#Create Dummy Quotes Column (Not Required)\n",
    "df['Reason']=df['Quotes']"
   ]
  },
  {
   "cell_type": "code",
   "execution_count": 90,
   "id": "83acaf38",
   "metadata": {},
   "outputs": [
    {
     "data": {
      "text/html": [
       "<div>\n",
       "<style scoped>\n",
       "    .dataframe tbody tr th:only-of-type {\n",
       "        vertical-align: middle;\n",
       "    }\n",
       "\n",
       "    .dataframe tbody tr th {\n",
       "        vertical-align: top;\n",
       "    }\n",
       "\n",
       "    .dataframe thead th {\n",
       "        text-align: right;\n",
       "    }\n",
       "</style>\n",
       "<table border=\"1\" class=\"dataframe\">\n",
       "  <thead>\n",
       "    <tr style=\"text-align: right;\">\n",
       "      <th></th>\n",
       "      <th>AppID</th>\n",
       "      <th>Ins_Age</th>\n",
       "      <th>Ins_Gender</th>\n",
       "      <th>Ht</th>\n",
       "      <th>Wt</th>\n",
       "      <th>IssueDate</th>\n",
       "      <th>Wt_in_kg</th>\n",
       "      <th>Ht_in_Feet</th>\n",
       "      <th>Ht_in_Sqrd_Mtr</th>\n",
       "      <th>BMI</th>\n",
       "      <th>Quotes</th>\n",
       "      <th>Reason</th>\n",
       "    </tr>\n",
       "  </thead>\n",
       "  <tbody>\n",
       "    <tr>\n",
       "      <th>0</th>\n",
       "      <td>56372</td>\n",
       "      <td>31</td>\n",
       "      <td>Male</td>\n",
       "      <td>510</td>\n",
       "      <td>185</td>\n",
       "      <td>NaN</td>\n",
       "      <td>83.914520</td>\n",
       "      <td>5.10</td>\n",
       "      <td>2.416408</td>\n",
       "      <td>34.726966</td>\n",
       "      <td>NaN</td>\n",
       "      <td>NaN</td>\n",
       "    </tr>\n",
       "    <tr>\n",
       "      <th>1</th>\n",
       "      <td>34565</td>\n",
       "      <td>35</td>\n",
       "      <td>Male</td>\n",
       "      <td>510</td>\n",
       "      <td>205</td>\n",
       "      <td>NaN</td>\n",
       "      <td>92.986360</td>\n",
       "      <td>5.10</td>\n",
       "      <td>2.416408</td>\n",
       "      <td>38.481232</td>\n",
       "      <td>NaN</td>\n",
       "      <td>NaN</td>\n",
       "    </tr>\n",
       "    <tr>\n",
       "      <th>2</th>\n",
       "      <td>57732</td>\n",
       "      <td>45</td>\n",
       "      <td>Female</td>\n",
       "      <td>510</td>\n",
       "      <td>125</td>\n",
       "      <td>NaN</td>\n",
       "      <td>56.699000</td>\n",
       "      <td>5.10</td>\n",
       "      <td>2.416408</td>\n",
       "      <td>23.464166</td>\n",
       "      <td>NaN</td>\n",
       "      <td>NaN</td>\n",
       "    </tr>\n",
       "    <tr>\n",
       "      <th>3</th>\n",
       "      <td>87324</td>\n",
       "      <td>38</td>\n",
       "      <td>Male</td>\n",
       "      <td>503</td>\n",
       "      <td>175</td>\n",
       "      <td>NaN</td>\n",
       "      <td>79.378600</td>\n",
       "      <td>5.03</td>\n",
       "      <td>2.350531</td>\n",
       "      <td>33.770504</td>\n",
       "      <td>NaN</td>\n",
       "      <td>NaN</td>\n",
       "    </tr>\n",
       "    <tr>\n",
       "      <th>4</th>\n",
       "      <td>12323</td>\n",
       "      <td>39</td>\n",
       "      <td>Female</td>\n",
       "      <td>600</td>\n",
       "      <td>252</td>\n",
       "      <td>NaN</td>\n",
       "      <td>114.305184</td>\n",
       "      <td>6.00</td>\n",
       "      <td>3.344509</td>\n",
       "      <td>34.176966</td>\n",
       "      <td>NaN</td>\n",
       "      <td>NaN</td>\n",
       "    </tr>\n",
       "  </tbody>\n",
       "</table>\n",
       "</div>"
      ],
      "text/plain": [
       "   AppID  Ins_Age Ins_Gender   Ht   Wt  IssueDate    Wt_in_kg  Ht_in_Feet  \\\n",
       "0  56372       31       Male  510  185        NaN   83.914520        5.10   \n",
       "1  34565       35       Male  510  205        NaN   92.986360        5.10   \n",
       "2  57732       45     Female  510  125        NaN   56.699000        5.10   \n",
       "3  87324       38       Male  503  175        NaN   79.378600        5.03   \n",
       "4  12323       39     Female  600  252        NaN  114.305184        6.00   \n",
       "\n",
       "   Ht_in_Sqrd_Mtr        BMI  Quotes  Reason  \n",
       "0        2.416408  34.726966     NaN     NaN  \n",
       "1        2.416408  38.481232     NaN     NaN  \n",
       "2        2.416408  23.464166     NaN     NaN  \n",
       "3        2.350531  33.770504     NaN     NaN  \n",
       "4        3.344509  34.176966     NaN     NaN  "
      ]
     },
     "execution_count": 90,
     "metadata": {},
     "output_type": "execute_result"
    }
   ],
   "source": [
    "df.head()"
   ]
  },
  {
   "cell_type": "markdown",
   "id": "ceb9f9cc",
   "metadata": {},
   "source": [
    "# Data Cleaning & Processing"
   ]
  },
  {
   "cell_type": "code",
   "execution_count": 96,
   "id": "d4060b9c",
   "metadata": {},
   "outputs": [
    {
     "data": {
      "text/plain": [
       "AppID               int64\n",
       "Ins_Age             int64\n",
       "Ins_Gender         object\n",
       "Ht                  int64\n",
       "Wt                  int64\n",
       "IssueDate         float64\n",
       "Wt_in_kg          float64\n",
       "Ht_in_Feet        float64\n",
       "Ht_in_Sqrd_Mtr    float64\n",
       "BMI               float64\n",
       "Quotes            float64\n",
       "Reason            float64\n",
       "dtype: object"
      ]
     },
     "execution_count": 96,
     "metadata": {},
     "output_type": "execute_result"
    }
   ],
   "source": [
    "#Attributes' property Check\n",
    "df.dtypes"
   ]
  },
  {
   "cell_type": "code",
   "execution_count": 97,
   "id": "a448c4ed",
   "metadata": {},
   "outputs": [
    {
     "name": "stdout",
     "output_type": "stream",
     "text": [
      "<class 'pandas.core.frame.DataFrame'>\n",
      "RangeIndex: 100 entries, 0 to 99\n",
      "Data columns (total 12 columns):\n",
      " #   Column          Non-Null Count  Dtype  \n",
      "---  ------          --------------  -----  \n",
      " 0   AppID           100 non-null    int64  \n",
      " 1   Ins_Age         100 non-null    int64  \n",
      " 2   Ins_Gender      100 non-null    object \n",
      " 3   Ht              100 non-null    int64  \n",
      " 4   Wt              100 non-null    int64  \n",
      " 5   IssueDate       0 non-null      float64\n",
      " 6   Wt_in_kg        100 non-null    float64\n",
      " 7   Ht_in_Feet      100 non-null    float64\n",
      " 8   Ht_in_Sqrd_Mtr  100 non-null    float64\n",
      " 9   BMI             100 non-null    float64\n",
      " 10  Quotes          0 non-null      float64\n",
      " 11  Reason          0 non-null      float64\n",
      "dtypes: float64(7), int64(4), object(1)\n",
      "memory usage: 9.5+ KB\n"
     ]
    }
   ],
   "source": [
    "#Check Null Values in Dataframe\n",
    "(df.info())"
   ]
  },
  {
   "cell_type": "code",
   "execution_count": 98,
   "id": "ca116c81",
   "metadata": {},
   "outputs": [
    {
     "name": "stdout",
     "output_type": "stream",
     "text": [
      "0\n",
      "Length of dataframe before removing duplicate rows : 100\n",
      "Length of dataframe after removing duplicate rows : 100\n"
     ]
    }
   ],
   "source": [
    "#Finding duplicate rows\n",
    "duplicate = df[df.duplicated()]\n",
    "print(len(duplicate))\n",
    "print(\"Length of dataframe before removing duplicate rows :\",len(df))\n",
    "# dropping duplicate values\n",
    "df.drop_duplicates(keep=False,inplace=True)\n",
    "print(\"Length of dataframe after removing duplicate rows :\",len(df))"
   ]
  },
  {
   "cell_type": "markdown",
   "id": "5c80bd77",
   "metadata": {},
   "source": [
    "# Calculate Quotes"
   ]
  },
  {
   "cell_type": "code",
   "execution_count": 64,
   "id": "101aab6f",
   "metadata": {},
   "outputs": [],
   "source": [
    "for i in range (0,len(df)):\n",
    "    if (df['Ins_Age'][i] <= 18 & df['Ins_Age'][i] >= 39)  & (df['BMI'][i] < 17.49 or df['BMI'][i] > 38.5):\n",
    "        df['Quotes'][i] = 750\n",
    "        df['Reason'][i] = \"Age is between 18 to 39 and 'BMI' is either less than 18.49 or greater than 38.5\"\n",
    "    elif (df['Ins_Age'][i] <= 40 & df['Ins_Age'][i] >= 59)  & (df['BMI'][i] < 17.49 or df['BMI'][i] > 38.5):\n",
    "        df['Quotes'][i] = 1000\n",
    "        df['Reason'][i] = \"Age is between 40 to 59 and 'BMI' is either less than 18.49 or greater then 38.5\"\n",
    "    elif (df['Ins_Age'][i] > 60)  & (df['BMI'][i] < 18.49 or df['BMI'][i] > 45.5):\n",
    "        df['Quotes'][i] = 2000\n",
    "        df['Reason'][i] = \"Age is greater than 60 and 'BMI' is either less than 18.49 or greater than 38.5\"\n",
    "        print(\"i in elif2 :\",i)\n",
    "    else:\n",
    "        df['Quotes'][i] = 500\n",
    "        df['Reason'][i] = \"BMI is in right range\"\n",
    "        \n",
    "    \n",
    "    if df['Ins_Gender'][i] == \"Female\":\n",
    "        df['Quotes'][i] = (0.9)*(df['Quotes'][i])"
   ]
  },
  {
   "cell_type": "code",
   "execution_count": 65,
   "id": "b1b90aba",
   "metadata": {},
   "outputs": [
    {
     "data": {
      "text/html": [
       "<div>\n",
       "<style scoped>\n",
       "    .dataframe tbody tr th:only-of-type {\n",
       "        vertical-align: middle;\n",
       "    }\n",
       "\n",
       "    .dataframe tbody tr th {\n",
       "        vertical-align: top;\n",
       "    }\n",
       "\n",
       "    .dataframe thead th {\n",
       "        text-align: right;\n",
       "    }\n",
       "</style>\n",
       "<table border=\"1\" class=\"dataframe\">\n",
       "  <thead>\n",
       "    <tr style=\"text-align: right;\">\n",
       "      <th></th>\n",
       "      <th>AppID</th>\n",
       "      <th>Ins_Age</th>\n",
       "      <th>Ins_Gender</th>\n",
       "      <th>Ht</th>\n",
       "      <th>Wt</th>\n",
       "      <th>IssueDate</th>\n",
       "      <th>Wt_in_kg</th>\n",
       "      <th>Ht_in_Feet</th>\n",
       "      <th>Ht_in_Sqrd_Mtr</th>\n",
       "      <th>BMI</th>\n",
       "      <th>Quotes</th>\n",
       "      <th>Reason</th>\n",
       "    </tr>\n",
       "  </thead>\n",
       "  <tbody>\n",
       "    <tr>\n",
       "      <th>0</th>\n",
       "      <td>56372</td>\n",
       "      <td>31</td>\n",
       "      <td>Male</td>\n",
       "      <td>510</td>\n",
       "      <td>185</td>\n",
       "      <td>NaN</td>\n",
       "      <td>83.914520</td>\n",
       "      <td>5.10</td>\n",
       "      <td>2.416408</td>\n",
       "      <td>34.726966</td>\n",
       "      <td>500.0</td>\n",
       "      <td>BMI is in right range</td>\n",
       "    </tr>\n",
       "    <tr>\n",
       "      <th>1</th>\n",
       "      <td>34565</td>\n",
       "      <td>35</td>\n",
       "      <td>Male</td>\n",
       "      <td>510</td>\n",
       "      <td>205</td>\n",
       "      <td>NaN</td>\n",
       "      <td>92.986360</td>\n",
       "      <td>5.10</td>\n",
       "      <td>2.416408</td>\n",
       "      <td>38.481232</td>\n",
       "      <td>500.0</td>\n",
       "      <td>BMI is in right range</td>\n",
       "    </tr>\n",
       "    <tr>\n",
       "      <th>2</th>\n",
       "      <td>57732</td>\n",
       "      <td>45</td>\n",
       "      <td>Female</td>\n",
       "      <td>510</td>\n",
       "      <td>125</td>\n",
       "      <td>NaN</td>\n",
       "      <td>56.699000</td>\n",
       "      <td>5.10</td>\n",
       "      <td>2.416408</td>\n",
       "      <td>23.464166</td>\n",
       "      <td>450.0</td>\n",
       "      <td>BMI is in right range</td>\n",
       "    </tr>\n",
       "    <tr>\n",
       "      <th>3</th>\n",
       "      <td>87324</td>\n",
       "      <td>38</td>\n",
       "      <td>Male</td>\n",
       "      <td>503</td>\n",
       "      <td>175</td>\n",
       "      <td>NaN</td>\n",
       "      <td>79.378600</td>\n",
       "      <td>5.03</td>\n",
       "      <td>2.350531</td>\n",
       "      <td>33.770504</td>\n",
       "      <td>500.0</td>\n",
       "      <td>BMI is in right range</td>\n",
       "    </tr>\n",
       "    <tr>\n",
       "      <th>4</th>\n",
       "      <td>12323</td>\n",
       "      <td>39</td>\n",
       "      <td>Female</td>\n",
       "      <td>600</td>\n",
       "      <td>252</td>\n",
       "      <td>NaN</td>\n",
       "      <td>114.305184</td>\n",
       "      <td>6.00</td>\n",
       "      <td>3.344509</td>\n",
       "      <td>34.176966</td>\n",
       "      <td>450.0</td>\n",
       "      <td>BMI is in right range</td>\n",
       "    </tr>\n",
       "  </tbody>\n",
       "</table>\n",
       "</div>"
      ],
      "text/plain": [
       "   AppID  Ins_Age Ins_Gender   Ht   Wt  IssueDate    Wt_in_kg  Ht_in_Feet  \\\n",
       "0  56372       31       Male  510  185        NaN   83.914520        5.10   \n",
       "1  34565       35       Male  510  205        NaN   92.986360        5.10   \n",
       "2  57732       45     Female  510  125        NaN   56.699000        5.10   \n",
       "3  87324       38       Male  503  175        NaN   79.378600        5.03   \n",
       "4  12323       39     Female  600  252        NaN  114.305184        6.00   \n",
       "\n",
       "   Ht_in_Sqrd_Mtr        BMI  Quotes                 Reason  \n",
       "0        2.416408  34.726966   500.0  BMI is in right range  \n",
       "1        2.416408  38.481232   500.0  BMI is in right range  \n",
       "2        2.416408  23.464166   450.0  BMI is in right range  \n",
       "3        2.350531  33.770504   500.0  BMI is in right range  \n",
       "4        3.344509  34.176966   450.0  BMI is in right range  "
      ]
     },
     "execution_count": 65,
     "metadata": {},
     "output_type": "execute_result"
    }
   ],
   "source": [
    "df.head()"
   ]
  },
  {
   "cell_type": "markdown",
   "id": "60cc401a",
   "metadata": {},
   "source": [
    "# Exploratory Data Analysis \n",
    "# Plot Correlation plot "
   ]
  },
  {
   "cell_type": "code",
   "execution_count": 92,
   "id": "4a9de0a8",
   "metadata": {},
   "outputs": [
    {
     "data": {
      "text/html": [
       "<div>\n",
       "<style scoped>\n",
       "    .dataframe tbody tr th:only-of-type {\n",
       "        vertical-align: middle;\n",
       "    }\n",
       "\n",
       "    .dataframe tbody tr th {\n",
       "        vertical-align: top;\n",
       "    }\n",
       "\n",
       "    .dataframe thead th {\n",
       "        text-align: right;\n",
       "    }\n",
       "</style>\n",
       "<table border=\"1\" class=\"dataframe\">\n",
       "  <thead>\n",
       "    <tr style=\"text-align: right;\">\n",
       "      <th></th>\n",
       "      <th>Ins_Age</th>\n",
       "      <th>Ht</th>\n",
       "      <th>Wt</th>\n",
       "      <th>BMI</th>\n",
       "    </tr>\n",
       "  </thead>\n",
       "  <tbody>\n",
       "    <tr>\n",
       "      <th>Ins_Age</th>\n",
       "      <td>1.000000</td>\n",
       "      <td>-0.016107</td>\n",
       "      <td>-0.078824</td>\n",
       "      <td>-0.062323</td>\n",
       "    </tr>\n",
       "    <tr>\n",
       "      <th>Ht</th>\n",
       "      <td>-0.016107</td>\n",
       "      <td>1.000000</td>\n",
       "      <td>-0.040016</td>\n",
       "      <td>-0.630816</td>\n",
       "    </tr>\n",
       "    <tr>\n",
       "      <th>Wt</th>\n",
       "      <td>-0.078824</td>\n",
       "      <td>-0.040016</td>\n",
       "      <td>1.000000</td>\n",
       "      <td>0.793356</td>\n",
       "    </tr>\n",
       "    <tr>\n",
       "      <th>BMI</th>\n",
       "      <td>-0.062323</td>\n",
       "      <td>-0.630816</td>\n",
       "      <td>0.793356</td>\n",
       "      <td>1.000000</td>\n",
       "    </tr>\n",
       "  </tbody>\n",
       "</table>\n",
       "</div>"
      ],
      "text/plain": [
       "          Ins_Age        Ht        Wt       BMI\n",
       "Ins_Age  1.000000 -0.016107 -0.078824 -0.062323\n",
       "Ht      -0.016107  1.000000 -0.040016 -0.630816\n",
       "Wt      -0.078824 -0.040016  1.000000  0.793356\n",
       "BMI     -0.062323 -0.630816  0.793356  1.000000"
      ]
     },
     "execution_count": 92,
     "metadata": {},
     "output_type": "execute_result"
    },
    {
     "data": {
      "image/png": "[encoded data removed]",
      "text/plain": [
       "<Figure size 432x288 with 2 Axes>"
      ]
     },
     "metadata": {
      "needs_background": "light"
     },
     "output_type": "display_data"
    }
   ],
   "source": [
    "import seaborn as sns\n",
    "df1=df[['Ins_Age','Ht','Wt','BMI']]\n",
    "c= df1.corr()\n",
    "sns.heatmap(c,cmap=\"BrBG\",annot=True)\n",
    "c"
   ]
  },
  {
   "cell_type": "markdown",
   "id": "23d5a78a",
   "metadata": {},
   "source": [
    "# Check for Output Data Distribution plot before prediction"
   ]
  },
  {
   "cell_type": "code",
   "execution_count": 70,
   "id": "1c236e9f",
   "metadata": {},
   "outputs": [
    {
     "data": {
      "image/png": "[encoded data removed]",
      "text/plain": [
       "<Figure size 432x288 with 1 Axes>"
      ]
     },
     "metadata": {
      "needs_background": "light"
     },
     "output_type": "display_data"
    }
   ],
   "source": [
    "import matplotlib\n",
    "import matplotlib.pyplot as plt\n",
    "plt.hist(df['BMI'])\n",
    "plt.show()"
   ]
  },
  {
   "cell_type": "code",
   "execution_count": 101,
   "id": "69a6086f",
   "metadata": {},
   "outputs": [
    {
     "data": {
      "image/png": "[encoded data removed]",
      "text/plain": [
       "<Figure size 432x432 with 1 Axes>"
      ]
     },
     "metadata": {
      "needs_background": "light"
     },
     "output_type": "display_data"
    }
   ],
   "source": [
    "df['Log BMI']=np.log(df['BMI']+1)\n",
    "plt.figure(figsize=(6,6))\n",
    "sns.distplot(df['Log BMI'])\n",
    "plt.show()"
   ]
  },
  {
   "cell_type": "markdown",
   "id": "f01e8a62",
   "metadata": {},
   "source": [
    "# Check for Outliers"
   ]
  },
  {
   "cell_type": "code",
   "execution_count": 71,
   "id": "fdb89102",
   "metadata": {},
   "outputs": [
    {
     "data": {
      "text/plain": [
       "<AxesSubplot:xlabel='BMI'>"
      ]
     },
     "execution_count": 71,
     "metadata": {},
     "output_type": "execute_result"
    },
    {
     "data": {
      "image/png": "[encoded data removed]",
      "text/plain": [
       "<Figure size 432x288 with 1 Axes>"
      ]
     },
     "metadata": {
      "needs_background": "light"
     },
     "output_type": "display_data"
    }
   ],
   "source": [
    "sns.boxplot(x=df['BMI'])"
   ]
  },
  {
   "cell_type": "code",
   "execution_count": 100,
   "id": "b57a4539",
   "metadata": {},
   "outputs": [
    {
     "data": {
      "image/png": "[encoded data removed]",
      "text/plain": [
       "<Figure size 576x432 with 1 Axes>"
      ]
     },
     "metadata": {
      "needs_background": "light"
     },
     "output_type": "display_data"
    }
   ],
   "source": [
    "eda1=df.loc[:, ['Quotes', 'Ins_Gender'] ].groupby(['Ins_Gender']).mean()\n",
    "plt.figure(figsize=(8, 6))\n",
    "splot=sns.barplot(data=df,y='Quotes',x='Ins_Gender',orient=\"v\")\n",
    "for p in splot.patches:\n",
    "    splot.annotate(format(p.get_height(), '.2f'), \n",
    "                   (p.get_x() + p.get_width() / 2., p.get_height()), \n",
    "                   ha = 'center', va = 'center', \n",
    "                   xytext = (0, 9), \n",
    "                   textcoords = 'offset points')\n",
    "plt.xlabel(\"Ins_Gender\", size=10)\n",
    "plt.ylabel(\"Quotes\", size=10)\n",
    "plt.savefig(\"Average Quotes per Gender.png\")"
   ]
  },
  {
   "cell_type": "markdown",
   "id": "506d894b",
   "metadata": {},
   "source": [
    "# One Hot encoding of Categorical Variable"
   ]
  },
  {
   "cell_type": "code",
   "execution_count": 74,
   "id": "b251e526",
   "metadata": {},
   "outputs": [
    {
     "data": {
      "text/html": [
       "<div>\n",
       "<style scoped>\n",
       "    .dataframe tbody tr th:only-of-type {\n",
       "        vertical-align: middle;\n",
       "    }\n",
       "\n",
       "    .dataframe tbody tr th {\n",
       "        vertical-align: top;\n",
       "    }\n",
       "\n",
       "    .dataframe thead th {\n",
       "        text-align: right;\n",
       "    }\n",
       "</style>\n",
       "<table border=\"1\" class=\"dataframe\">\n",
       "  <thead>\n",
       "    <tr style=\"text-align: right;\">\n",
       "      <th></th>\n",
       "      <th>Ins_Age</th>\n",
       "      <th>Wt_in_kg</th>\n",
       "      <th>Ht_in_Sqrd_Mtr</th>\n",
       "      <th>Ht</th>\n",
       "      <th>Wt</th>\n",
       "      <th>BMI</th>\n",
       "      <th>Ins_Gender_Female</th>\n",
       "      <th>Ins_Gender_Male</th>\n",
       "    </tr>\n",
       "  </thead>\n",
       "  <tbody>\n",
       "    <tr>\n",
       "      <th>0</th>\n",
       "      <td>31</td>\n",
       "      <td>83.91452</td>\n",
       "      <td>2.416408</td>\n",
       "      <td>510</td>\n",
       "      <td>185</td>\n",
       "      <td>34.726966</td>\n",
       "      <td>0</td>\n",
       "      <td>1</td>\n",
       "    </tr>\n",
       "    <tr>\n",
       "      <th>1</th>\n",
       "      <td>35</td>\n",
       "      <td>92.98636</td>\n",
       "      <td>2.416408</td>\n",
       "      <td>510</td>\n",
       "      <td>205</td>\n",
       "      <td>38.481232</td>\n",
       "      <td>0</td>\n",
       "      <td>1</td>\n",
       "    </tr>\n",
       "  </tbody>\n",
       "</table>\n",
       "</div>"
      ],
      "text/plain": [
       "   Ins_Age  Wt_in_kg  Ht_in_Sqrd_Mtr   Ht   Wt        BMI  Ins_Gender_Female  \\\n",
       "0       31  83.91452        2.416408  510  185  34.726966                  0   \n",
       "1       35  92.98636        2.416408  510  205  38.481232                  0   \n",
       "\n",
       "   Ins_Gender_Male  \n",
       "0                1  \n",
       "1                1  "
      ]
     },
     "execution_count": 74,
     "metadata": {},
     "output_type": "execute_result"
    }
   ],
   "source": [
    "#created dataframe to perform forecasting\n",
    "df_forecast=df[['Ins_Age','Ins_Gender','Wt_in_kg','Ht_in_Sqrd_Mtr','Ht','Wt','BMI']]\n",
    "\n",
    "categorical_features = ['Ins_Gender']\n",
    "df_forecast = pd.get_dummies(df_forecast, columns = categorical_features)\n",
    "df_forecast.head(2)"
   ]
  },
  {
   "cell_type": "markdown",
   "id": "508c46f5",
   "metadata": {},
   "source": [
    "# Model Building"
   ]
  },
  {
   "cell_type": "code",
   "execution_count": 81,
   "id": "7490d26f",
   "metadata": {},
   "outputs": [
    {
     "name": "stdout",
     "output_type": "stream",
     "text": [
      "LiR: 0.989640 (0.445775) (0.989532)\n",
      "Ridge: 0.989620 (0.445844) (0.989511)\n",
      "Lasso: 0.988823 (0.465278) (0.988537)\n",
      "ElasticNet: 0.988943 (0.456484) (0.988729)\n",
      "Bag_Re: 0.984693 (0.271689) (0.983691)\n",
      "RandomForest: 0.994125 (0.197728) (0.993560)\n",
      "ExtraTreesRegressor: 1.000000 (0.000000) (1.000000)\n",
      "KNN: 0.955670 (0.578941) (0.948660)\n",
      "CART: 1.000000 (0.000000) (1.000000)\n",
      "SVM: 0.258328 (4.361025) (-35.024347)\n"
     ]
    }
   ],
   "source": [
    "X= df_forecast[['Ins_Age','Ins_Gender_Female','Wt_in_kg','Ht_in_Sqrd_Mtr','Ht','Wt']]\n",
    "Y= df_forecast[['BMI']]\n",
    "num_instances = len(X)\n",
    "# We specify this so that the train and test data set always have the same rows, respectively\n",
    "np.random.seed(0)\n",
    "X_train, X_test,y_train,y_test = train_test_split(X,Y, train_size = 0.7, test_size = 0.3, random_state = 100)\n",
    "\n",
    "models = []\n",
    "models.append(('LiR', LinearRegression()))\n",
    "models.append(('Ridge', Ridge()))\n",
    "models.append(('Lasso', Lasso()))\n",
    "models.append(('ElasticNet', ElasticNet()))\n",
    "models.append(('Bag_Re', BaggingRegressor()))\n",
    "models.append(('RandomForest', RandomForestRegressor()))\n",
    "models.append(('ExtraTreesRegressor', ExtraTreesRegressor()))\n",
    "models.append(('KNN', KNeighborsRegressor()))\n",
    "models.append(('CART', DecisionTreeRegressor()))\n",
    "models.append(('SVM', SVR()))\n",
    "\n",
    "# Evaluations\n",
    "results = []\n",
    "results2 = []\n",
    "results3 = []\n",
    "\n",
    "names = []\n",
    "scoring = []\n",
    "\n",
    "for name, model in models:\n",
    "    # Fit the model\n",
    "    model.fit(X, Y)\n",
    "    \n",
    "    predictions = model.predict(X)\n",
    "    \n",
    "    # Evaluate the model\n",
    "    score = explained_variance_score(Y, predictions)\n",
    "    mae = mean_absolute_error(predictions, Y)\n",
    "    r2 = r2_score(predictions, Y)\n",
    "    #print(\"r2_score :\",r2_score)\n",
    "    #nmse = p.sqrt(mean_squared_error(predictions,Y))\n",
    "      \n",
    "    # print(\"%s: %.2f%%\" % (model.metrics_names[1], scores[1]*100))\n",
    "    results.append(mae)\n",
    "    #results2.append(nmse)\n",
    "    #results3.append(r2)\n",
    "    names.append(name)\n",
    "    \n",
    "    msg = \"%s: %f (%f) (%f)\" % (name, score, mae, r2)\n",
    "    print(msg)"
   ]
  },
  {
   "cell_type": "markdown",
   "id": "2a57bb9b",
   "metadata": {},
   "source": [
    "# Choosing Best Model for deployment"
   ]
  },
  {
   "cell_type": "code",
   "execution_count": 85,
   "id": "a06b1a1b",
   "metadata": {},
   "outputs": [
    {
     "data": {
      "text/plain": [
       "0.9892207042957537"
      ]
     },
     "execution_count": 85,
     "metadata": {},
     "output_type": "execute_result"
    }
   ],
   "source": [
    "# Fit the model on training set\n",
    "model = LinearRegression()\n",
    "model.fit(X, Y)\n",
    "model.score(X_test,y_test)"
   ]
  },
  {
   "cell_type": "markdown",
   "id": "03ac3d98",
   "metadata": {},
   "source": [
    "# Pickle file for Productionize "
   ]
  },
  {
   "cell_type": "code",
   "execution_count": 87,
   "id": "b71c386d",
   "metadata": {},
   "outputs": [],
   "source": [
    "import pickle\n",
    "filename = 'LinearRegression_v1.pickle'\n",
    "pickle.dump(model, open(filename, 'wb'))"
   ]
  },
  {
   "cell_type": "markdown",
   "id": "23dc9836",
   "metadata": {},
   "source": [
    "# Steps to Operationalize Model-  \n",
    "\n",
    "- Create a html file to design the UI template\n",
    "- Create app.py file using Flask to do the Backend calculation\n",
    "- Use the above pickle file to perform real time prediction"
   ]
  },
  {
   "cell_type": "markdown",
   "id": "a0d588ce",
   "metadata": {},
   "source": [
    "- Create a html file to design the UI template \n",
    "  - Create the training dataset based on the BMI business rules.\n",
    "  \n",
    "  <!DOCTYPE html>\n",
    "<html >\n",
    "<!--From https://codepen.io/frytyler/pen/EGdtg-->\n",
    "<head>\n",
    "  <meta charset=\"UTF-8\">\n",
    "  <title>ML API</title> \n",
    "</head>\n",
    "\n",
    "<body>\n",
    " <div class=\"login\">\n",
    "\t<h1>Predict BMI</h1>\n",
    "\n",
    "     <!-- Main Input For Receiving Query to our ML -->\n",
    "    <form action=\"{{ url_for('predict')}}\"method=\"post\">\n",
    "    \t<input type=\"text\" name=\"Age\" placeholder=\"Age\" required=\"required\" />\n",
    "        <input type=\"text\" name=\"Height\" placeholder=\"Height\" required=\"required\" />\n",
    "\t\t<input type=\"text\" name=\"Weight\" placeholder=\"Weight\" required=\"required\" />\n",
    "\n",
    "        <button type=\"submit\" class=\"btn btn-primary btn-block btn-large\">Predict</button>\n",
    "    </form>\n",
    "\n",
    " </div>\n",
    "\n",
    "\n",
    "</body>\n",
    "</html>"
   ]
  },
  {
   "cell_type": "markdown",
   "id": "37d0edbb",
   "metadata": {},
   "source": [
    "- Create an app.py file using Flask/Dash or any similar library\n",
    "  - Import Flask, Pickle with below high level code-"
   ]
  },
  {
   "cell_type": "raw",
   "id": "1c7d8770",
   "metadata": {},
   "source": [
    "from flask import Flask\n",
    "import pickle\n",
    "\n",
    "app = Flask(__name__)\n",
    "model = pickle.load(open('model.pkl', 'rb'))\n",
    "\n",
    "@app.route('/')\n",
    "def home():\n",
    "    return template('index.html')\n",
    "\n",
    "@app.route('/predict',methods= ['POST'])\n",
    "def predict():\n",
    "    '''\n",
    "    Render results on HTML GUI\n",
    "    '''\n",
    "    return predictions\n",
    "\n",
    "if __name__ == \"__main__\":\n",
    "    app.run(debug=True)"
   ]
  },
  {
   "cell_type": "code",
   "execution_count": null,
   "id": "05679521",
   "metadata": {},
   "outputs": [],
   "source": []
  }
 ],
 "metadata": {
  "kernelspec": {
   "display_name": "Python 3",
   "language": "python",
   "name": "python3"
  },
  "language_info": {
   "codemirror_mode": {
    "name": "ipython",
    "version": 3
   },
   "file_extension": ".py",
   "mimetype": "text/x-python",
   "name": "python",
   "nbconvert_exporter": "python",
   "pygments_lexer": "ipython3",
   "version": "3.8.8"
  }
 },
 "nbformat": 4,
 "nbformat_minor": 5
}
